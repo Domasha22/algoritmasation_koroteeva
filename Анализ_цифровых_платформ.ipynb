{
  "nbformat": 4,
  "nbformat_minor": 0,
  "metadata": {
    "colab": {
      "provenance": [],
      "authorship_tag": "ABX9TyN4ZzAuZ+Y5VO4DRIOzs7CK",
      "include_colab_link": true
    },
    "kernelspec": {
      "name": "python3",
      "display_name": "Python 3"
    },
    "language_info": {
      "name": "python"
    }
  },
  "cells": [
    {
      "cell_type": "markdown",
      "metadata": {
        "id": "view-in-github",
        "colab_type": "text"
      },
      "source": [
        "<a href=\"https://colab.research.google.com/github/Domasha22/algoritmasation_koroteeva/blob/main/%D0%90%D0%BD%D0%B0%D0%BB%D0%B8%D0%B7_%D1%86%D0%B8%D1%84%D1%80%D0%BE%D0%B2%D1%8B%D1%85_%D0%BF%D0%BB%D0%B0%D1%82%D1%84%D0%BE%D1%80%D0%BC.ipynb\" target=\"_parent\"><img src=\"https://colab.research.google.com/assets/colab-badge.svg\" alt=\"Open In Colab\"/></a>"
      ]
    },
    {
      "cell_type": "code",
      "execution_count": null,
      "metadata": {
        "id": "pL3EsAMOhyN6"
      },
      "outputs": [],
      "source": [
        "! pip install requests pandas matplotlib seaborn # Устанавливает необходимые библиотеки Python, если они еще не установлены."
      ]
    },
    {
      "cell_type": "code",
      "source": [
        "# Импортируем библиотеку pandas для работы с данными в табличном формате (DataFrame).\n",
        "import pandas as pd\n",
        "\n",
        "# Создаем словарь 'data', содержащий информацию о различных платформах.\n",
        "# Ключи словаря соответствуют названиям столбцов в будущем DataFrame.\n",
        "# Значениями являются списки, содержащие данные для каждого столбца.\n",
        "data = {\n",
        "    \"Платформа\": [\"Яндекс\", \"Mail.ru\", \"Рамблер\", \"ВКонтакте\", \"Одноклассники\"],\n",
        "    \"Пользователи (млн)\": [60, 55, 20, 70, 40],\n",
        "    \"Год основания\": [1997, 1998, 1996, 2006, 2006],\n",
        "    \"Категория\": [\"Поисковик\", \"Почта\", \"Портал\", \"Соцсеть\", \"Соцсеть\"]\n",
        "}\n",
        "\n",
        "# Создаем DataFrame 'df' из словаря 'data'.\n",
        "# DataFrame - это табличная структура данных, предоставляемая библиотекой pandas.\n",
        "df = pd.DataFrame(data)\n",
        "\n",
        "# Выводим DataFrame 'df' на экран.\n",
        "# Это позволяет увидеть созданную таблицу с данными о платформах.\n",
        "print(df)"
      ],
      "metadata": {
        "colab": {
          "base_uri": "https://localhost:8080/"
        },
        "id": "rlJ7a-tq55S7",
        "outputId": "506767e5-4010-493b-cd10-1843c6cf3856"
      },
      "execution_count": null,
      "outputs": [
        {
          "output_type": "stream",
          "name": "stdout",
          "text": [
            "       Платформа  Пользователи (млн)  Год основания  Категория\n",
            "0         Яндекс                  60           1997  Поисковик\n",
            "1        Mail.ru                  55           1998      Почта\n",
            "2        Рамблер                  20           1996     Портал\n",
            "3      ВКонтакте                  70           2006    Соцсеть\n",
            "4  Одноклассники                  40           2006    Соцсеть\n"
          ]
        }
      ]
    },
    {
      "cell_type": "code",
      "source": [
        "# Проверка на пропуски\n",
        "\n",
        "print(df.isnull().sum())\n",
        "\n",
        "\n",
        "# Проверка на дубликаты\n",
        "\n",
        "print(df.duplicated().sum())"
      ],
      "metadata": {
        "colab": {
          "base_uri": "https://localhost:8080/"
        },
        "id": "kWaPjL7u59Qq",
        "outputId": "a852f383-3206-435a-bdf8-022c620788ea"
      },
      "execution_count": null,
      "outputs": [
        {
          "output_type": "stream",
          "name": "stdout",
          "text": [
            "Платформа             0\n",
            "Пользователи (млн)    0\n",
            "Год основания         0\n",
            "Категория             0\n",
            "dtype: int64\n",
            "0\n"
          ]
        }
      ]
    },
    {
      "cell_type": "code",
      "source": [
        " # Импортируем библиотеку matplotlib.pyplot для создания графиков.\n",
        "import matplotlib.pyplot as plt\n",
        "# Импортируем библиотеку seaborn для создания статистических графиков (улучшенная визуализация на основе matplotlib).\n",
        "import seaborn as sns\n",
        "\n",
        "# --- Гистограмма количества пользователей ---\n",
        "# Создаем новое окно для графика (фигуру) с размером 10x6 дюймов.\n",
        "plt.figure(figsize=(10, 6))\n",
        "# Создаем столбчатую диаграмму (гистограмму) с помощью seaborn.\n",
        "#   - x=\"Платформа\":  Название платформы отображается по оси x.\n",
        "#   - y=\"Пользователи (млн)\": Количество пользователей отображается по оси y.\n",
        "#   - data=df:  Используем DataFrame 'df' в качестве источника данных.\n",
        "sns.barplot(x=\"Платформа\", y=\"Пользователи (млн)\", data=df)\n",
        "# Добавляем заголовок к графику.\n",
        "plt.title(\"Количество пользователей цифровых платформ России\")\n",
        "# Добавляем метку к оси x.\n",
        "plt.xlabel(\"Платформа\")\n",
        "# Добавляем метку к оси y.\n",
        "plt.ylabel(\"Пользователи (млн)\")\n",
        "# Отображаем созданный график.\n",
        "plt.show()\n",
        "\n",
        "# --- Круговая диаграмма распределения по категориям ---\n",
        "# Создаем новое окно для графика (фигуру) с размером 8x8 дюймов.\n",
        "plt.figure(figsize=(8, 8))\n",
        "# Считаем количество вхождений каждой категории в столбце 'Категория' DataFrame 'df'\n",
        "# и создаем круговую диаграмму.\n",
        "#   - kind='pie':  Указываем, что нужен круговой график.\n",
        "#   - autopct='%1.1f%%':  Форматируем отображение процентов на графике (один знак после запятой).\n",
        "df['Категория'].value_counts().plot(kind='pie', autopct='%1.1f%%')\n",
        "# Добавляем заголовок к графику.\n",
        "plt.title(\"Распределение платформ по категориям\")\n",
        "# Отображаем созданный график.\n",
        "plt.show()"
      ],
      "metadata": {
        "colab": {
          "base_uri": "https://localhost:8080/",
          "height": 228
        },
        "id": "zdZH8sNS6Fjx",
        "outputId": "9802a431-a39d-490b-ea51-4e5ed78784c6"
      },
      "execution_count": null,
      "outputs": [
        {
          "output_type": "error",
          "ename": "NameError",
          "evalue": "name 'df' is not defined",
          "traceback": [
            "\u001b[0;31m---------------------------------------------------------------------------\u001b[0m",
            "\u001b[0;31mNameError\u001b[0m                                 Traceback (most recent call last)",
            "\u001b[0;32m<ipython-input-2-5ad5a4b9f02a>\u001b[0m in \u001b[0;36m<cell line: 0>\u001b[0;34m()\u001b[0m\n\u001b[1;32m     11\u001b[0m \u001b[0;31m#   - y=\"Пользователи (млн)\": Количество пользователей отображается по оси y.\u001b[0m\u001b[0;34m\u001b[0m\u001b[0;34m\u001b[0m\u001b[0m\n\u001b[1;32m     12\u001b[0m \u001b[0;31m#   - data=df:  Используем DataFrame 'df' в качестве источника данных.\u001b[0m\u001b[0;34m\u001b[0m\u001b[0;34m\u001b[0m\u001b[0m\n\u001b[0;32m---> 13\u001b[0;31m \u001b[0msns\u001b[0m\u001b[0;34m.\u001b[0m\u001b[0mbarplot\u001b[0m\u001b[0;34m(\u001b[0m\u001b[0mx\u001b[0m\u001b[0;34m=\u001b[0m\u001b[0;34m\"Платформа\"\u001b[0m\u001b[0;34m,\u001b[0m \u001b[0my\u001b[0m\u001b[0;34m=\u001b[0m\u001b[0;34m\"Пользователи (млн)\"\u001b[0m\u001b[0;34m,\u001b[0m \u001b[0mdata\u001b[0m\u001b[0;34m=\u001b[0m\u001b[0mdf\u001b[0m\u001b[0;34m)\u001b[0m\u001b[0;34m\u001b[0m\u001b[0;34m\u001b[0m\u001b[0m\n\u001b[0m\u001b[1;32m     14\u001b[0m \u001b[0;31m# Добавляем заголовок к графику.\u001b[0m\u001b[0;34m\u001b[0m\u001b[0;34m\u001b[0m\u001b[0m\n\u001b[1;32m     15\u001b[0m \u001b[0mplt\u001b[0m\u001b[0;34m.\u001b[0m\u001b[0mtitle\u001b[0m\u001b[0;34m(\u001b[0m\u001b[0;34m\"Количество пользователей цифровых платформ России\"\u001b[0m\u001b[0;34m)\u001b[0m\u001b[0;34m\u001b[0m\u001b[0;34m\u001b[0m\u001b[0m\n",
            "\u001b[0;31mNameError\u001b[0m: name 'df' is not defined"
          ]
        },
        {
          "output_type": "display_data",
          "data": {
            "text/plain": [
              "<Figure size 1000x600 with 0 Axes>"
            ]
          },
          "metadata": {}
        }
      ]
    },
    {
      "cell_type": "code",
      "source": [
        "\n",
        "# Среднее количество пользователей\n",
        "mean_users = df[\"Пользователи (млн)\"].mean() # Вычисляем среднее значение столбца \"Пользователи (млн)\" в DataFrame df.\n",
        "\n",
        "print(f\"Среднее количество пользователей: {mean_users:.2f} млн\") # Выводим среднее количество пользователей, отформатированное до двух знаков после запятой.\n",
        "\n",
        "\n",
        "# Платформа с максимальным количеством пользователей\n",
        "max_users_platform = df.loc[df[\"Пользователи (млн)\"].idxmax()] # Находим строку в DataFrame df, где значение столбца \"Пользователи (млн)\" является максимальным.\n",
        "\n",
        "print(f\"Платформа с максимальным количеством пользователей: {max_users_platform['Платформа']} ({max_users_platform['Пользователи (млн)']} млн)\") # Выводим название платформы и количество пользователей для платформы с максимальным количеством пользователей."
      ],
      "metadata": {
        "colab": {
          "base_uri": "https://localhost:8080/"
        },
        "id": "xbWkvkvx665z",
        "outputId": "fa50f8d3-a07f-4a94-aebb-d63b99135490"
      },
      "execution_count": null,
      "outputs": [
        {
          "output_type": "stream",
          "name": "stdout",
          "text": [
            "Среднее количество пользователей: 49.00 млн\n",
            "Платформа с максимальным количеством пользователей: ВКонтакте (70 млн)\n"
          ]
        }
      ]
    },
    {
      "cell_type": "code",
      "source": [],
      "metadata": {
        "id": "JD4XFJXt67fS"
      },
      "execution_count": null,
      "outputs": []
    }
  ]
}